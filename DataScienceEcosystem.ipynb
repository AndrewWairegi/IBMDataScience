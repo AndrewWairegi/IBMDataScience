{
  "nbformat": 4,
  "nbformat_minor": 0,
  "metadata": {
    "colab": {
      "provenance": [],
      "authorship_tag": "ABX9TyM8XQJDUOf1rqrZZv1I9nZW",
      "include_colab_link": true
    },
    "kernelspec": {
      "name": "python3",
      "display_name": "Python 3"
    },
    "language_info": {
      "name": "python"
    }
  },
  "cells": [
    {
      "cell_type": "markdown",
      "metadata": {
        "id": "view-in-github",
        "colab_type": "text"
      },
      "source": [
        "<a href=\"https://colab.research.google.com/github/AndrewWairegi/IBMDataScience/blob/main/DataScienceEcosystem.ipynb\" target=\"_parent\"><img src=\"https://colab.research.google.com/assets/colab-badge.svg\" alt=\"Open In Colab\"/></a>"
      ]
    },
    {
      "cell_type": "markdown",
      "source": [
        "<h1> Data Science Tools and Ecosystem </h1>"
      ],
      "metadata": {
        "id": "vcCUZ1xqQUhe"
      }
    },
    {
      "cell_type": "markdown",
      "source": [
        "In this notebook, Data Science Tools and Ecosystem are summarized."
      ],
      "metadata": {
        "id": "rLDquyB7Qgel"
      }
    },
    {
      "cell_type": "markdown",
      "source": [
        "Objectives:\n",
        "\n",
        "\n",
        "*   List the popular languages for data science\n",
        "*   List the common data science libraries\n",
        "*   List the common data science tools\n",
        "\n",
        "*   Attempt arithmetics in python\n",
        "*   To convert minutes to hours\n",
        "\n",
        "\n",
        "\n",
        "\n",
        "\n"
      ],
      "metadata": {
        "id": "twZ047T1TD1B"
      }
    },
    {
      "cell_type": "markdown",
      "source": [
        "Some of the popular languages that Data Scientists use are:\n",
        "\n",
        "1. R\n",
        "2. Python\n",
        "3. Scala\n",
        "\n"
      ],
      "metadata": {
        "id": "1x3EnbumQkIL"
      }
    },
    {
      "cell_type": "markdown",
      "source": [
        "Some of the commonly used libraries used by Data Scientists include:\n",
        "\n",
        "\n",
        "\n",
        "1.  Matplotlib\n",
        "2.  Plotly\n",
        "3. Scikit Learn\n",
        "\n"
      ],
      "metadata": {
        "id": "lD7gJQ54Q3VU"
      }
    },
    {
      "cell_type": "markdown",
      "source": [
        "<table>\n",
        "<tr>\n",
        "<th> Data Science Tools </th>\n",
        "</tr>\n",
        "\n",
        "<tr>\n",
        "<td>Jupyter</td>\n",
        "</tr>\n",
        "<tr>\n",
        "<td>Rstudio</td>\n",
        "<tr>\n",
        "<td>\n",
        "Jupyter Lab\n",
        "</td>\n",
        "</table>"
      ],
      "metadata": {
        "id": "Rqp_uo3JRLiQ"
      }
    },
    {
      "cell_type": "markdown",
      "source": [
        "Below are a few examples of evaluating arithmetic expressions in Python"
      ],
      "metadata": {
        "id": "60noQEzxSGSA"
      }
    },
    {
      "cell_type": "code",
      "source": [
        "# This a simple arithmetic expression to mutiply then add integers\n",
        "(3*4)+5"
      ],
      "metadata": {
        "colab": {
          "base_uri": "https://localhost:8080/"
        },
        "id": "7RIocXujQc8L",
        "outputId": "82a165fe-8f8b-4bdb-e6b6-764bc30c714b"
      },
      "execution_count": 1,
      "outputs": [
        {
          "output_type": "execute_result",
          "data": {
            "text/plain": [
              "17"
            ]
          },
          "metadata": {},
          "execution_count": 1
        }
      ]
    },
    {
      "cell_type": "code",
      "source": [
        "# This will convert 200 minutes to hours by diving by 60\n",
        "int(200/60)"
      ],
      "metadata": {
        "colab": {
          "base_uri": "https://localhost:8080/"
        },
        "id": "J-M2GyuWSZbZ",
        "outputId": "9daa056f-ef0c-4807-bd3f-a279d277a7f6"
      },
      "execution_count": 2,
      "outputs": [
        {
          "output_type": "execute_result",
          "data": {
            "text/plain": [
              "3"
            ]
          },
          "metadata": {},
          "execution_count": 2
        }
      ]
    },
    {
      "cell_type": "markdown",
      "source": [
        "Author\n",
        "<h2>Andrew Wairegi</h2>"
      ],
      "metadata": {
        "id": "4wFtZO6bT4cd"
      }
    }
  ]
}